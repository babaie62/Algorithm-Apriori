{
 "cells": [
  {
   "cell_type": "code",
   "execution_count": 16,
   "metadata": {},
   "outputs": [],
   "source": [
    "from mlxtend.preprocessing import TransactionEncoder\n",
    "from mlxtend.frequent_patterns import apriori\n",
    "from mlxtend.frequent_patterns import association_rules\n",
    "import pandas as pd \n"
   ]
  },
  {
   "cell_type": "code",
   "execution_count": 20,
   "metadata": {},
   "outputs": [
    {
     "data": {
      "text/plain": [
       "[['milk', 'bread', 'water'], ['coffe', 'sugar'], ['burgers', 'eggs']]"
      ]
     },
     "execution_count": 20,
     "metadata": {},
     "output_type": "execute_result"
    }
   ],
   "source": [
    "transactions = [['milk', 'bread', 'water'],['coffe', 'sugar' ],['burgers', 'eggs']]\n",
    "transactions"
   ]
  },
  {
   "cell_type": "code",
   "execution_count": 21,
   "metadata": {},
   "outputs": [],
   "source": [
    "support_threshold = 0.004"
   ]
  },
  {
   "cell_type": "code",
   "execution_count": 23,
   "metadata": {},
   "outputs": [
    {
     "data": {
      "text/plain": [
       "array([[ True, False, False, False,  True, False,  True],\n",
       "       [False, False,  True, False, False,  True, False],\n",
       "       [False,  True, False,  True, False, False, False]])"
      ]
     },
     "execution_count": 23,
     "metadata": {},
     "output_type": "execute_result"
    }
   ],
   "source": [
    "te = TransactionEncoder()\n",
    "te_ary = te.fit(transactions).transform(transactions)\n",
    "te_ary"
   ]
  },
  {
   "cell_type": "code",
   "execution_count": 24,
   "metadata": {},
   "outputs": [
    {
     "data": {
      "text/html": [
       "<div>\n",
       "<style scoped>\n",
       "    .dataframe tbody tr th:only-of-type {\n",
       "        vertical-align: middle;\n",
       "    }\n",
       "\n",
       "    .dataframe tbody tr th {\n",
       "        vertical-align: top;\n",
       "    }\n",
       "\n",
       "    .dataframe thead th {\n",
       "        text-align: right;\n",
       "    }\n",
       "</style>\n",
       "<table border=\"1\" class=\"dataframe\">\n",
       "  <thead>\n",
       "    <tr style=\"text-align: right;\">\n",
       "      <th></th>\n",
       "      <th>bread</th>\n",
       "      <th>burgers</th>\n",
       "      <th>coffe</th>\n",
       "      <th>eggs</th>\n",
       "      <th>milk</th>\n",
       "      <th>sugar</th>\n",
       "      <th>water</th>\n",
       "    </tr>\n",
       "  </thead>\n",
       "  <tbody>\n",
       "    <tr>\n",
       "      <th>0</th>\n",
       "      <td>True</td>\n",
       "      <td>False</td>\n",
       "      <td>False</td>\n",
       "      <td>False</td>\n",
       "      <td>True</td>\n",
       "      <td>False</td>\n",
       "      <td>True</td>\n",
       "    </tr>\n",
       "    <tr>\n",
       "      <th>1</th>\n",
       "      <td>False</td>\n",
       "      <td>False</td>\n",
       "      <td>True</td>\n",
       "      <td>False</td>\n",
       "      <td>False</td>\n",
       "      <td>True</td>\n",
       "      <td>False</td>\n",
       "    </tr>\n",
       "    <tr>\n",
       "      <th>2</th>\n",
       "      <td>False</td>\n",
       "      <td>True</td>\n",
       "      <td>False</td>\n",
       "      <td>True</td>\n",
       "      <td>False</td>\n",
       "      <td>False</td>\n",
       "      <td>False</td>\n",
       "    </tr>\n",
       "  </tbody>\n",
       "</table>\n",
       "</div>"
      ],
      "text/plain": [
       "   bread  burgers  coffe   eggs   milk  sugar  water\n",
       "0   True    False  False  False   True  False   True\n",
       "1  False    False   True  False  False   True  False\n",
       "2  False     True  False   True  False  False  False"
      ]
     },
     "execution_count": 24,
     "metadata": {},
     "output_type": "execute_result"
    }
   ],
   "source": [
    "df = pd.DataFrame(te_ary, columns=te.columns_)\n",
    "df"
   ]
  },
  {
   "cell_type": "code",
   "execution_count": 38,
   "metadata": {},
   "outputs": [
    {
     "name": "stdout",
     "output_type": "stream",
     "text": [
      "     support              itemsets\n",
      "0   0.333333               (bread)\n",
      "1   0.333333             (burgers)\n",
      "2   0.333333               (coffe)\n",
      "3   0.333333                (eggs)\n",
      "4   0.333333                (milk)\n",
      "5   0.333333               (sugar)\n",
      "6   0.333333               (water)\n",
      "7   0.333333         (bread, milk)\n",
      "8   0.333333        (water, bread)\n",
      "9   0.333333       (burgers, eggs)\n",
      "10  0.333333        (sugar, coffe)\n",
      "11  0.333333         (water, milk)\n",
      "12  0.333333  (water, bread, milk)\n"
     ]
    }
   ],
   "source": [
    "# apriori\n",
    "frequent_itemsets = apriori(df, min_support=support_threshold, use_colnames=True)\n",
    "print(frequent_itemsets) #dataframe with the itemsets"
   ]
  },
  {
   "cell_type": "code",
   "execution_count": 40,
   "metadata": {},
   "outputs": [
    {
     "name": "stdout",
     "output_type": "stream",
     "text": [
      "       antecedents     consequents  antecedent support  consequent support  \\\n",
      "0          (bread)          (milk)            0.333333            0.333333   \n",
      "1           (milk)         (bread)            0.333333            0.333333   \n",
      "2          (water)         (bread)            0.333333            0.333333   \n",
      "3          (bread)         (water)            0.333333            0.333333   \n",
      "4        (burgers)          (eggs)            0.333333            0.333333   \n",
      "5           (eggs)       (burgers)            0.333333            0.333333   \n",
      "6          (sugar)         (coffe)            0.333333            0.333333   \n",
      "7          (coffe)         (sugar)            0.333333            0.333333   \n",
      "8          (water)          (milk)            0.333333            0.333333   \n",
      "9           (milk)         (water)            0.333333            0.333333   \n",
      "10  (water, bread)          (milk)            0.333333            0.333333   \n",
      "11   (water, milk)         (bread)            0.333333            0.333333   \n",
      "12   (bread, milk)         (water)            0.333333            0.333333   \n",
      "13         (water)   (bread, milk)            0.333333            0.333333   \n",
      "14         (bread)   (water, milk)            0.333333            0.333333   \n",
      "15          (milk)  (water, bread)            0.333333            0.333333   \n",
      "\n",
      "     support  confidence  lift  leverage  conviction  \n",
      "0   0.333333         1.0   3.0  0.222222         inf  \n",
      "1   0.333333         1.0   3.0  0.222222         inf  \n",
      "2   0.333333         1.0   3.0  0.222222         inf  \n",
      "3   0.333333         1.0   3.0  0.222222         inf  \n",
      "4   0.333333         1.0   3.0  0.222222         inf  \n",
      "5   0.333333         1.0   3.0  0.222222         inf  \n",
      "6   0.333333         1.0   3.0  0.222222         inf  \n",
      "7   0.333333         1.0   3.0  0.222222         inf  \n",
      "8   0.333333         1.0   3.0  0.222222         inf  \n",
      "9   0.333333         1.0   3.0  0.222222         inf  \n",
      "10  0.333333         1.0   3.0  0.222222         inf  \n",
      "11  0.333333         1.0   3.0  0.222222         inf  \n",
      "12  0.333333         1.0   3.0  0.222222         inf  \n",
      "13  0.333333         1.0   3.0  0.222222         inf  \n",
      "14  0.333333         1.0   3.0  0.222222         inf  \n",
      "15  0.333333         1.0   3.0  0.222222         inf  \n"
     ]
    }
   ],
   "source": [
    "#association_rules\n",
    "rules = association_rules(frequent_itemsets, metric=\"confidence\", min_threshold=0.3)\n",
    "print(rules)"
   ]
  },
  {
   "cell_type": "code",
   "execution_count": 37,
   "metadata": {},
   "outputs": [
    {
     "name": "stdout",
     "output_type": "stream",
     "text": [
      "       antecedents     consequents  antecedent support  consequent support  \\\n",
      "0          (bread)          (milk)            0.333333            0.333333   \n",
      "1           (milk)         (bread)            0.333333            0.333333   \n",
      "2          (water)         (bread)            0.333333            0.333333   \n",
      "3          (bread)         (water)            0.333333            0.333333   \n",
      "4        (burgers)          (eggs)            0.333333            0.333333   \n",
      "5           (eggs)       (burgers)            0.333333            0.333333   \n",
      "6          (sugar)         (coffe)            0.333333            0.333333   \n",
      "7          (coffe)         (sugar)            0.333333            0.333333   \n",
      "8          (water)          (milk)            0.333333            0.333333   \n",
      "9           (milk)         (water)            0.333333            0.333333   \n",
      "10  (water, bread)          (milk)            0.333333            0.333333   \n",
      "11   (water, milk)         (bread)            0.333333            0.333333   \n",
      "12   (bread, milk)         (water)            0.333333            0.333333   \n",
      "13         (water)   (bread, milk)            0.333333            0.333333   \n",
      "14         (bread)   (water, milk)            0.333333            0.333333   \n",
      "15          (milk)  (water, bread)            0.333333            0.333333   \n",
      "\n",
      "     support  confidence  lift  leverage  conviction  \n",
      "0   0.333333         1.0   3.0  0.222222         inf  \n",
      "1   0.333333         1.0   3.0  0.222222         inf  \n",
      "2   0.333333         1.0   3.0  0.222222         inf  \n",
      "3   0.333333         1.0   3.0  0.222222         inf  \n",
      "4   0.333333         1.0   3.0  0.222222         inf  \n",
      "5   0.333333         1.0   3.0  0.222222         inf  \n",
      "6   0.333333         1.0   3.0  0.222222         inf  \n",
      "7   0.333333         1.0   3.0  0.222222         inf  \n",
      "8   0.333333         1.0   3.0  0.222222         inf  \n",
      "9   0.333333         1.0   3.0  0.222222         inf  \n",
      "10  0.333333         1.0   3.0  0.222222         inf  \n",
      "11  0.333333         1.0   3.0  0.222222         inf  \n",
      "12  0.333333         1.0   3.0  0.222222         inf  \n",
      "13  0.333333         1.0   3.0  0.222222         inf  \n",
      "14  0.333333         1.0   3.0  0.222222         inf  \n",
      "15  0.333333         1.0   3.0  0.222222         inf  \n"
     ]
    }
   ],
   "source": [
    "lift = association_rules(frequent_itemsets, metric=\"lift\", min_threshold=1)\n",
    "print(lift) #dataframe with confidence, lift, conviction and leverage metrics calculated"
   ]
  },
  {
   "cell_type": "code",
   "execution_count": null,
   "metadata": {},
   "outputs": [],
   "source": []
  }
 ],
 "metadata": {
  "kernelspec": {
   "display_name": "Python 3",
   "language": "python",
   "name": "python3"
  },
  "language_info": {
   "codemirror_mode": {
    "name": "ipython",
    "version": 3
   },
   "file_extension": ".py",
   "mimetype": "text/x-python",
   "name": "python",
   "nbconvert_exporter": "python",
   "pygments_lexer": "ipython3",
   "version": "3.6.8"
  }
 },
 "nbformat": 4,
 "nbformat_minor": 2
}
